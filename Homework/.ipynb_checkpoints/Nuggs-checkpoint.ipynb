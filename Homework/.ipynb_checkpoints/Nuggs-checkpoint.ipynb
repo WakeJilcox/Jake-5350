{
 "cells": [
  {
   "cell_type": "code",
   "execution_count": 6,
   "metadata": {},
   "outputs": [],
   "source": [
    "nuggs6 = 6\n",
    "nuggs9 = 9\n",
    "nuggs20 = 20\n",
    "\n",
    "def nuggetcombo(candidate, nuggs6, nuggs9, nuggs20):\n",
    "    for x in range(candidate/nuggs6):\n",
    "        for y in range(candidate/nuggs9):\n",
    "            for z in range(candidate/nuggs20):\n",
    "                if candidate == x*nuggs6 + y*nuggs9 + k*nuggs20:\n",
    "                    return True\n",
    "    \n",
    "    return False"
   ]
  }
 ],
 "metadata": {
  "kernelspec": {
   "display_name": "Python 3",
   "language": "python",
   "name": "python3"
  },
  "language_info": {
   "codemirror_mode": {
    "name": "ipython",
    "version": 3
   },
   "file_extension": ".py",
   "mimetype": "text/x-python",
   "name": "python",
   "nbconvert_exporter": "python",
   "pygments_lexer": "ipython3",
   "version": "3.6.5"
  }
 },
 "nbformat": 4,
 "nbformat_minor": 2
}
