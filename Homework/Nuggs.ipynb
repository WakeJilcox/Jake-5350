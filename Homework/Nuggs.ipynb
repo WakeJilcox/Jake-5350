{
 "cells": [
  {
   "cell_type": "code",
   "execution_count": 1,
   "metadata": {},
   "outputs": [
    {
     "name": "stdout",
     "output_type": "stream",
     "text": [
      "the largest size that you cannot get is: 43\n"
     ]
    }
   ],
   "source": [
    "\n",
    "\n",
    "def nuggetcombo(candidate, nuggs6 = 6, nuggs9 = 9, nuggs20 = 20):\n",
    "    for x in range(candidate//nuggs6 +1):\n",
    "        for y in range(candidate//nuggs9 +1):\n",
    "            for z in range(candidate//nuggs20 +1):\n",
    "                if candidate == x*nuggs6 + y*nuggs9 + z*nuggs20:\n",
    "                    return True\n",
    "    \n",
    "    return False\n",
    "\n",
    "## main\n",
    "sizes = {'S' : 6, 'M' : 9, 'L' : 20}\n",
    "nuggs6 = 6\n",
    "count = 0\n",
    "largest = 0\n",
    "candidate = nuggs6\n",
    "while count < nuggs6:\n",
    "    if (nuggetcombo(candidate)):\n",
    "        count += 1\n",
    "    else:\n",
    "        largest = candidate\n",
    "        count = 0\n",
    "    candidate += 1\n",
    "\n",
    "print(\"the largest size that you cannot get is: {0}\".format(largest))\n",
    "    \n"
   ]
  }
 ],
 "metadata": {
  "kernelspec": {
   "display_name": "Python 3",
   "language": "python",
   "name": "python3"
  },
  "language_info": {
   "codemirror_mode": {
    "name": "ipython",
    "version": 3
   },
   "file_extension": ".py",
   "mimetype": "text/x-python",
   "name": "python",
   "nbconvert_exporter": "python",
   "pygments_lexer": "ipython3",
   "version": "3.6.5"
  }
 },
 "nbformat": 4,
 "nbformat_minor": 2
}
